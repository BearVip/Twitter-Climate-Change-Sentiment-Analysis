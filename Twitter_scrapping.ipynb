{
  "cells": [
    {
      "cell_type": "markdown",
      "metadata": {
        "id": "view-in-github",
        "colab_type": "text"
      },
      "source": [
        "<a href=\"https://colab.research.google.com/github/MUmairAB/Twitter-Climate-Change-Sentiment-Analysis/blob/main/Twitter_scrapping.ipynb\" target=\"_parent\"><img src=\"https://colab.research.google.com/assets/colab-badge.svg\" alt=\"Open In Colab\"/></a>"
      ]
    },
    {
      "cell_type": "markdown",
      "source": [
        "**This Notebook scrapes the data regarding \"Climate Change\" from Twitter. For scrapping the Twitter \"snscrape\" library is used.**"
      ],
      "metadata": {
        "id": "NDjvj1Em20uY"
      }
    },
    {
      "cell_type": "code",
      "execution_count": 1,
      "metadata": {
        "id": "TfmzXi02pV1u"
      },
      "outputs": [],
      "source": [
        "import pandas as pd\n",
        "import numpy as np\n",
        "from datetime import datetime, timedelta"
      ]
    },
    {
      "cell_type": "markdown",
      "metadata": {
        "id": "XLrpxJ77f4uc"
      },
      "source": [
        "We need to extract the tweet data from Twitter. To do that, we'll use **Snscrape**. It is a scraper for **social networking services (SNS)**. \n",
        "\n",
        "First, we'll install it and then use it to extract the required data."
      ]
    },
    {
      "cell_type": "code",
      "execution_count": 2,
      "metadata": {
        "colab": {
          "base_uri": "https://localhost:8080/"
        },
        "id": "7fY1GiYd5yhs",
        "outputId": "4e173ff1-c17c-431f-b6ce-a1bac53b8afc"
      },
      "outputs": [
        {
          "output_type": "stream",
          "name": "stdout",
          "text": [
            "Looking in indexes: https://pypi.org/simple, https://us-python.pkg.dev/colab-wheels/public/simple/\n",
            "Collecting snscrape\n",
            "  Downloading snscrape-0.6.0.20230303-py3-none-any.whl (71 kB)\n",
            "\u001b[2K     \u001b[90m━━━━━━━━━━━━━━━━━━━━━━━━━━━━━━━━━━━━━━━━\u001b[0m \u001b[32m71.6/71.6 KB\u001b[0m \u001b[31m1.5 MB/s\u001b[0m eta \u001b[36m0:00:00\u001b[0m\n",
            "\u001b[?25hRequirement already satisfied: filelock in /usr/local/lib/python3.8/dist-packages (from snscrape) (3.9.0)\n",
            "Requirement already satisfied: pytz in /usr/local/lib/python3.8/dist-packages (from snscrape) (2022.7.1)\n",
            "Requirement already satisfied: requests[socks] in /usr/local/lib/python3.8/dist-packages (from snscrape) (2.25.1)\n",
            "Requirement already satisfied: beautifulsoup4 in /usr/local/lib/python3.8/dist-packages (from snscrape) (4.6.3)\n",
            "Requirement already satisfied: lxml in /usr/local/lib/python3.8/dist-packages (from snscrape) (4.9.2)\n",
            "Requirement already satisfied: certifi>=2017.4.17 in /usr/local/lib/python3.8/dist-packages (from requests[socks]->snscrape) (2022.12.7)\n",
            "Requirement already satisfied: chardet<5,>=3.0.2 in /usr/local/lib/python3.8/dist-packages (from requests[socks]->snscrape) (4.0.0)\n",
            "Requirement already satisfied: urllib3<1.27,>=1.21.1 in /usr/local/lib/python3.8/dist-packages (from requests[socks]->snscrape) (1.26.14)\n",
            "Requirement already satisfied: idna<3,>=2.5 in /usr/local/lib/python3.8/dist-packages (from requests[socks]->snscrape) (2.10)\n",
            "Requirement already satisfied: PySocks!=1.5.7,>=1.5.6 in /usr/local/lib/python3.8/dist-packages (from requests[socks]->snscrape) (1.7.1)\n",
            "Installing collected packages: snscrape\n",
            "Successfully installed snscrape-0.6.0.20230303\n"
          ]
        }
      ],
      "source": [
        "# Installing the snscrape module\n",
        "! pip install snscrape"
      ]
    },
    {
      "cell_type": "markdown",
      "metadata": {
        "id": "lrJPOEWd142g"
      },
      "source": [
        "Since, **snscraper** is successfully installed, we will now load the module."
      ]
    },
    {
      "cell_type": "code",
      "execution_count": 3,
      "metadata": {
        "id": "YeefO2HI5kFr"
      },
      "outputs": [],
      "source": [
        "# Importing the module\n",
        "import snscrape.modules.twitter as sntwitter"
      ]
    },
    {
      "cell_type": "markdown",
      "metadata": {
        "id": "3OZcAtus05tf"
      },
      "source": [
        "Now, we will use **snscraper's** **TwitterSearchScraper** function to scrape the twitter data.\n",
        "\n",
        "We are extracting **3000 tweets** per day for the **370 days**. The tweets are related to **Climate Change**.\n",
        "\n",
        "This amounts to **1,110,000** or **1.1 million** tweets."
      ]
    },
    {
      "cell_type": "code",
      "execution_count": 4,
      "metadata": {
        "id": "5_1wMXRWuaxX"
      },
      "outputs": [],
      "source": [
        "\"\"\" Extracting 1.1 million tweets in one go requires more computation power than provided\n",
        "by Google Colab or Kaggle. So to work around this problem, we need to run the program a \n",
        "couple of times. \n",
        "\n",
        "That is, first, we'll set days = 0 in the following line\n",
        "\n",
        "             current_date = (datetime.now().date() - timedelta(days=0))\n",
        "\n",
        "This will give us the current date.\n",
        "we will set days to 50 in the following variable at line 6\n",
        "\n",
        "             # days for which we will scrape the data\n",
        "             days = 50\n",
        "\n",
        "We will run the rest of the code as it is. This will scrape 3,000 tweets for the last 50 days,\n",
        "amounting to 150K tweets in one loop. \n",
        "We'll save the DataFrame to a csv file and download it. Then, for the 2nd time, we'll:\n",
        "  --> set the days in current_date to 50\n",
        "and run the code without changing anything else. And save the new csv file. For, third run, \n",
        "days in the current_date will be changed to 100 and so on...\n",
        "\n",
        "In this way, in a couple of runs, you can download any number of tweets you want.\n",
        "\"\"\"\n",
        "# extracting today's date or relative date\n",
        "\n",
        "current_date = (datetime.now().date() - timedelta(days=0))\n",
        "\n",
        "# days for which we will scrape the data\n",
        "days = 50\n",
        "\n",
        "# max tweets to extract in a day\n",
        "max_tweets = 3000\n",
        "\n",
        "# list to store the tweets\n",
        "tweets = list()\n",
        "\n",
        "while days >0:\n",
        "    \n",
        "    loop_date = (current_date - timedelta(days=days))\n",
        "    querry = 'climate change since:{0} until:{1}'.format(str(str(loop_date - timedelta(1))),str(str(loop_date)))\n",
        "\n",
        "    # Using for loop to scrape tweets data on \"Climate Change\"\n",
        "    for num_of_tweets, tweet in enumerate(sntwitter.TwitterSearchScraper(querry).get_items()):\n",
        "        if num_of_tweets>max_tweets:\n",
        "            break\n",
        "        tweets.append([tweet.date, tweet.id, tweet.rawContent, tweet.user.username,\\\n",
        "                      tweet.likeCount, tweet.retweetCount, tweet.lang])\n",
        "    days -= 1"
      ]
    },
    {
      "cell_type": "code",
      "execution_count": 5,
      "metadata": {
        "colab": {
          "base_uri": "https://localhost:8080/",
          "height": 458
        },
        "id": "4LttGEjS0BRg",
        "outputId": "8671a7dd-b3ae-4de9-f5f2-13f867470767"
      },
      "outputs": [
        {
          "output_type": "execute_result",
          "data": {
            "text/plain": [
              "                   Datetime           Tweeter Id  \\\n",
              "0 2023-01-11 23:59:57+00:00  1613324868682153984   \n",
              "1 2023-01-11 23:59:52+00:00  1613324847488159750   \n",
              "2 2023-01-11 23:59:39+00:00  1613324793247301632   \n",
              "3 2023-01-11 23:59:38+00:00  1613324790642741250   \n",
              "4 2023-01-11 23:59:35+00:00  1613324775643815937   \n",
              "\n",
              "                                             Content Twitter Username  Likes  \\\n",
              "0  “We will never survive the climate crisis with...   andrewpaulhill      1   \n",
              "1  Growing up in the Ruby Sea, it was normal to w...      Keelster361      1   \n",
              "2       @RoKhanna I thought it was Climate Change ™️      superdupler      0   \n",
              "3  @JackPosobiec Yeap … know a people in the hole...        ellmaness      0   \n",
              "4  Just when I think they can’t get any more stup...   javaluvingrams      1   \n",
              "\n",
              "   No of Retweets Tweet Language  \n",
              "0               0             en  \n",
              "1               0             en  \n",
              "2               0             en  \n",
              "3               0             en  \n",
              "4               0             en  "
            ],
            "text/html": [
              "\n",
              "  <div id=\"df-af1d0591-ddb1-4fb2-a3fe-2ecbca8c75af\">\n",
              "    <div class=\"colab-df-container\">\n",
              "      <div>\n",
              "<style scoped>\n",
              "    .dataframe tbody tr th:only-of-type {\n",
              "        vertical-align: middle;\n",
              "    }\n",
              "\n",
              "    .dataframe tbody tr th {\n",
              "        vertical-align: top;\n",
              "    }\n",
              "\n",
              "    .dataframe thead th {\n",
              "        text-align: right;\n",
              "    }\n",
              "</style>\n",
              "<table border=\"1\" class=\"dataframe\">\n",
              "  <thead>\n",
              "    <tr style=\"text-align: right;\">\n",
              "      <th></th>\n",
              "      <th>Datetime</th>\n",
              "      <th>Tweeter Id</th>\n",
              "      <th>Content</th>\n",
              "      <th>Twitter Username</th>\n",
              "      <th>Likes</th>\n",
              "      <th>No of Retweets</th>\n",
              "      <th>Tweet Language</th>\n",
              "    </tr>\n",
              "  </thead>\n",
              "  <tbody>\n",
              "    <tr>\n",
              "      <th>0</th>\n",
              "      <td>2023-01-11 23:59:57+00:00</td>\n",
              "      <td>1613324868682153984</td>\n",
              "      <td>“We will never survive the climate crisis with...</td>\n",
              "      <td>andrewpaulhill</td>\n",
              "      <td>1</td>\n",
              "      <td>0</td>\n",
              "      <td>en</td>\n",
              "    </tr>\n",
              "    <tr>\n",
              "      <th>1</th>\n",
              "      <td>2023-01-11 23:59:52+00:00</td>\n",
              "      <td>1613324847488159750</td>\n",
              "      <td>Growing up in the Ruby Sea, it was normal to w...</td>\n",
              "      <td>Keelster361</td>\n",
              "      <td>1</td>\n",
              "      <td>0</td>\n",
              "      <td>en</td>\n",
              "    </tr>\n",
              "    <tr>\n",
              "      <th>2</th>\n",
              "      <td>2023-01-11 23:59:39+00:00</td>\n",
              "      <td>1613324793247301632</td>\n",
              "      <td>@RoKhanna I thought it was Climate Change ™️</td>\n",
              "      <td>superdupler</td>\n",
              "      <td>0</td>\n",
              "      <td>0</td>\n",
              "      <td>en</td>\n",
              "    </tr>\n",
              "    <tr>\n",
              "      <th>3</th>\n",
              "      <td>2023-01-11 23:59:38+00:00</td>\n",
              "      <td>1613324790642741250</td>\n",
              "      <td>@JackPosobiec Yeap … know a people in the hole...</td>\n",
              "      <td>ellmaness</td>\n",
              "      <td>0</td>\n",
              "      <td>0</td>\n",
              "      <td>en</td>\n",
              "    </tr>\n",
              "    <tr>\n",
              "      <th>4</th>\n",
              "      <td>2023-01-11 23:59:35+00:00</td>\n",
              "      <td>1613324775643815937</td>\n",
              "      <td>Just when I think they can’t get any more stup...</td>\n",
              "      <td>javaluvingrams</td>\n",
              "      <td>1</td>\n",
              "      <td>0</td>\n",
              "      <td>en</td>\n",
              "    </tr>\n",
              "  </tbody>\n",
              "</table>\n",
              "</div>\n",
              "      <button class=\"colab-df-convert\" onclick=\"convertToInteractive('df-af1d0591-ddb1-4fb2-a3fe-2ecbca8c75af')\"\n",
              "              title=\"Convert this dataframe to an interactive table.\"\n",
              "              style=\"display:none;\">\n",
              "        \n",
              "  <svg xmlns=\"http://www.w3.org/2000/svg\" height=\"24px\"viewBox=\"0 0 24 24\"\n",
              "       width=\"24px\">\n",
              "    <path d=\"M0 0h24v24H0V0z\" fill=\"none\"/>\n",
              "    <path d=\"M18.56 5.44l.94 2.06.94-2.06 2.06-.94-2.06-.94-.94-2.06-.94 2.06-2.06.94zm-11 1L8.5 8.5l.94-2.06 2.06-.94-2.06-.94L8.5 2.5l-.94 2.06-2.06.94zm10 10l.94 2.06.94-2.06 2.06-.94-2.06-.94-.94-2.06-.94 2.06-2.06.94z\"/><path d=\"M17.41 7.96l-1.37-1.37c-.4-.4-.92-.59-1.43-.59-.52 0-1.04.2-1.43.59L10.3 9.45l-7.72 7.72c-.78.78-.78 2.05 0 2.83L4 21.41c.39.39.9.59 1.41.59.51 0 1.02-.2 1.41-.59l7.78-7.78 2.81-2.81c.8-.78.8-2.07 0-2.86zM5.41 20L4 18.59l7.72-7.72 1.47 1.35L5.41 20z\"/>\n",
              "  </svg>\n",
              "      </button>\n",
              "      \n",
              "  <style>\n",
              "    .colab-df-container {\n",
              "      display:flex;\n",
              "      flex-wrap:wrap;\n",
              "      gap: 12px;\n",
              "    }\n",
              "\n",
              "    .colab-df-convert {\n",
              "      background-color: #E8F0FE;\n",
              "      border: none;\n",
              "      border-radius: 50%;\n",
              "      cursor: pointer;\n",
              "      display: none;\n",
              "      fill: #1967D2;\n",
              "      height: 32px;\n",
              "      padding: 0 0 0 0;\n",
              "      width: 32px;\n",
              "    }\n",
              "\n",
              "    .colab-df-convert:hover {\n",
              "      background-color: #E2EBFA;\n",
              "      box-shadow: 0px 1px 2px rgba(60, 64, 67, 0.3), 0px 1px 3px 1px rgba(60, 64, 67, 0.15);\n",
              "      fill: #174EA6;\n",
              "    }\n",
              "\n",
              "    [theme=dark] .colab-df-convert {\n",
              "      background-color: #3B4455;\n",
              "      fill: #D2E3FC;\n",
              "    }\n",
              "\n",
              "    [theme=dark] .colab-df-convert:hover {\n",
              "      background-color: #434B5C;\n",
              "      box-shadow: 0px 1px 3px 1px rgba(0, 0, 0, 0.15);\n",
              "      filter: drop-shadow(0px 1px 2px rgba(0, 0, 0, 0.3));\n",
              "      fill: #FFFFFF;\n",
              "    }\n",
              "  </style>\n",
              "\n",
              "      <script>\n",
              "        const buttonEl =\n",
              "          document.querySelector('#df-af1d0591-ddb1-4fb2-a3fe-2ecbca8c75af button.colab-df-convert');\n",
              "        buttonEl.style.display =\n",
              "          google.colab.kernel.accessAllowed ? 'block' : 'none';\n",
              "\n",
              "        async function convertToInteractive(key) {\n",
              "          const element = document.querySelector('#df-af1d0591-ddb1-4fb2-a3fe-2ecbca8c75af');\n",
              "          const dataTable =\n",
              "            await google.colab.kernel.invokeFunction('convertToInteractive',\n",
              "                                                     [key], {});\n",
              "          if (!dataTable) return;\n",
              "\n",
              "          const docLinkHtml = 'Like what you see? Visit the ' +\n",
              "            '<a target=\"_blank\" href=https://colab.research.google.com/notebooks/data_table.ipynb>data table notebook</a>'\n",
              "            + ' to learn more about interactive tables.';\n",
              "          element.innerHTML = '';\n",
              "          dataTable['output_type'] = 'display_data';\n",
              "          await google.colab.output.renderOutput(dataTable, element);\n",
              "          const docLink = document.createElement('div');\n",
              "          docLink.innerHTML = docLinkHtml;\n",
              "          element.appendChild(docLink);\n",
              "        }\n",
              "      </script>\n",
              "    </div>\n",
              "  </div>\n",
              "  "
            ]
          },
          "metadata": {},
          "execution_count": 5
        }
      ],
      "source": [
        "# converting the tweet data to a DataFrame\n",
        "tweets_df = pd.DataFrame(tweets, columns=['Datetime', 'Tweeter Id', 'Content', 'Twitter Username',\\\n",
        "                                 'Likes','No of Retweets','Tweet Language'])\n",
        "\n",
        "# display first 5 entries from dataframe\n",
        "tweets_df.head()"
      ]
    },
    {
      "cell_type": "code",
      "execution_count": 6,
      "metadata": {
        "id": "yhb74Qc_-FQv"
      },
      "outputs": [],
      "source": [
        "# saving the tweets data\n",
        "tweets_df.to_csv(f'tweets_{str(current_date)}.csv',index=False)"
      ]
    }
  ],
  "metadata": {
    "colab": {
      "provenance": [],
      "authorship_tag": "ABX9TyM5inWDUB44TrlAzzhYyKFG",
      "include_colab_link": true
    },
    "gpuClass": "standard",
    "kernelspec": {
      "display_name": "Python 3",
      "name": "python3"
    },
    "language_info": {
      "name": "python"
    }
  },
  "nbformat": 4,
  "nbformat_minor": 0
}