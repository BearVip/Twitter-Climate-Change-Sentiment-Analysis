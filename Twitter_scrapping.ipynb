{
  "nbformat": 4,
  "nbformat_minor": 0,
  "metadata": {
    "colab": {
      "provenance": [],
      "authorship_tag": "ABX9TyMtiPmPnI4oThkgBRBrOt5o",
      "include_colab_link": true
    },
    "kernelspec": {
      "name": "python3",
      "display_name": "Python 3"
    },
    "language_info": {
      "name": "python"
    }
  },
  "cells": [
    {
      "cell_type": "markdown",
      "metadata": {
        "id": "view-in-github",
        "colab_type": "text"
      },
      "source": [
        "<a href=\"https://colab.research.google.com/github/MUmairAB/Twitter-Sentiment-Analysis/blob/main/Twitter_scrapping.ipynb\" target=\"_parent\"><img src=\"https://colab.research.google.com/assets/colab-badge.svg\" alt=\"Open In Colab\"/></a>"
      ]
    },
    {
      "cell_type": "code",
      "execution_count": 6,
      "metadata": {
        "id": "TfmzXi02pV1u"
      },
      "outputs": [],
      "source": [
        "import pandas as pd\n",
        "import numpy as np\n",
        "from datetime import datetime, timedelta"
      ]
    },
    {
      "cell_type": "markdown",
      "source": [
        "We need to extract the tweet data from Twitter. To do that, we'll use **Snscrape**. It is a scraper for **social networking services (SNS)**. \n",
        "\n",
        "First, we'll install it and then use it to extract the required data."
      ],
      "metadata": {
        "id": "XLrpxJ77f4uc"
      }
    },
    {
      "cell_type": "code",
      "source": [
        "# Installing the snscrape module\n",
        "! pip install snscrape"
      ],
      "metadata": {
        "colab": {
          "base_uri": "https://localhost:8080/"
        },
        "id": "7fY1GiYd5yhs",
        "outputId": "6f6bb520-3f60-48eb-a2e7-a42bcf6cec22"
      },
      "execution_count": 7,
      "outputs": [
        {
          "output_type": "stream",
          "name": "stdout",
          "text": [
            "Looking in indexes: https://pypi.org/simple, https://us-python.pkg.dev/colab-wheels/public/simple/\n",
            "Requirement already satisfied: snscrape in /usr/local/lib/python3.8/dist-packages (0.5.0.20230113)\n",
            "Requirement already satisfied: requests[socks] in /usr/local/lib/python3.8/dist-packages (from snscrape) (2.25.1)\n",
            "Requirement already satisfied: filelock in /usr/local/lib/python3.8/dist-packages (from snscrape) (3.9.0)\n",
            "Requirement already satisfied: lxml in /usr/local/lib/python3.8/dist-packages (from snscrape) (4.9.2)\n",
            "Requirement already satisfied: beautifulsoup4 in /usr/local/lib/python3.8/dist-packages (from snscrape) (4.6.3)\n",
            "Requirement already satisfied: pytz in /usr/local/lib/python3.8/dist-packages (from snscrape) (2022.7.1)\n",
            "Requirement already satisfied: certifi>=2017.4.17 in /usr/local/lib/python3.8/dist-packages (from requests[socks]->snscrape) (2022.12.7)\n",
            "Requirement already satisfied: chardet<5,>=3.0.2 in /usr/local/lib/python3.8/dist-packages (from requests[socks]->snscrape) (4.0.0)\n",
            "Requirement already satisfied: urllib3<1.27,>=1.21.1 in /usr/local/lib/python3.8/dist-packages (from requests[socks]->snscrape) (1.24.3)\n",
            "Requirement already satisfied: idna<3,>=2.5 in /usr/local/lib/python3.8/dist-packages (from requests[socks]->snscrape) (2.10)\n",
            "Requirement already satisfied: PySocks!=1.5.7,>=1.5.6 in /usr/local/lib/python3.8/dist-packages (from requests[socks]->snscrape) (1.7.1)\n"
          ]
        }
      ]
    },
    {
      "cell_type": "markdown",
      "source": [
        "Since, **snscraper** is successfully installed, we will now load the module."
      ],
      "metadata": {
        "id": "lrJPOEWd142g"
      }
    },
    {
      "cell_type": "code",
      "source": [
        "# Importing the module\n",
        "import snscrape.modules.twitter as sntwitter"
      ],
      "metadata": {
        "id": "YeefO2HI5kFr"
      },
      "execution_count": 8,
      "outputs": []
    },
    {
      "cell_type": "markdown",
      "source": [
        "Now, we will use **snscraper's** **TwitterSearchScraper** function to scrape the twitter data.\n",
        "\n",
        "We are extracting **2000 tweets** per day for the **1080 days**, i.e., last **3 years**. The tweets are related to **Climate Change**.\n",
        "\n",
        "This amounts to **2,160,000** or **2.1 million** tweets."
      ],
      "metadata": {
        "id": "3OZcAtus05tf"
      }
    },
    {
      "cell_type": "code",
      "source": [
        "# extracting today's date\n",
        "#current_date = datetime.now().date() \n",
        "\n",
        "current_date = (datetime.now().date() - timedelta(days=401))\n",
        "\n",
        "# 3 years timeline\n",
        "days = 30\n",
        "\n",
        "# max tweets to extract in a day\n",
        "max_tweets = 3000\n",
        "\n",
        "# list to store the tweets\n",
        "tweets = list()\n",
        "\n",
        "while days >0:\n",
        "    loop_date = (current_date - timedelta(days=days))\n",
        "\n",
        "    # Using for loop to scrape tweets data on \"Climate Change\"\n",
        "    for num_of_tweets, tweet in enumerate(sntwitter.TwitterSearchScraper(\\\n",
        "                  'climate change').get_items()):\n",
        "        if num_of_tweets>max_tweets:\n",
        "            break\n",
        "        tweets.append([tweet.date, tweet.id, tweet.rawContent, tweet.user.username,\\\n",
        "                      tweet.likeCount, tweet.retweetCount, tweet.lang])\n",
        "    days -= 1"
      ],
      "metadata": {
        "id": "5_1wMXRWuaxX"
      },
      "execution_count": 15,
      "outputs": []
    },
    {
      "cell_type": "code",
      "source": [
        "# converting the tweet data to a DataFrame\n",
        "tweets_df = pd.DataFrame(tweets, columns=['Datetime', 'Tweeter Id', 'Content', 'Twitter Username',\\\n",
        "                                 'Likes','No of Retweets','Tweet Language'])\n",
        "\n",
        "# display first 5 entries from dataframe\n",
        "tweets_df.head()"
      ],
      "metadata": {
        "colab": {
          "base_uri": "https://localhost:8080/",
          "height": 441
        },
        "id": "4LttGEjS0BRg",
        "outputId": "82dfc589-615f-496a-cb10-180534427461"
      },
      "execution_count": 16,
      "outputs": [
        {
          "output_type": "execute_result",
          "data": {
            "text/plain": [
              "                   Datetime           Tweeter Id  \\\n",
              "0 2023-02-28 14:25:30+00:00  1630574922220306433   \n",
              "1 2023-02-28 14:25:25+00:00  1630574898497179650   \n",
              "2 2023-02-28 14:25:22+00:00  1630574888502317057   \n",
              "3 2023-02-28 14:25:21+00:00  1630574885536661504   \n",
              "4 2023-02-28 14:25:11+00:00  1630574840745717762   \n",
              "\n",
              "                                             Content Twitter Username  Likes  \\\n",
              "0  One of the big questions in the climate change...    ereatareanuna      0   \n",
              "1  @ilovejohnkimble \"What the Hell could have don...      TKM_Madness      0   \n",
              "2  Did you miss our Engineering - Solving Problem...       FindingAda      0   \n",
              "3  @DoorknobMedia @macareuxmoine12 @leslibless @U...       JonnyBagz3      0   \n",
              "4  The impacts of climate change on sea temperatu...        NewOnNORA      0   \n",
              "\n",
              "   No of Retweets Tweet Language  \n",
              "0               0             en  \n",
              "1               0             en  \n",
              "2               0             en  \n",
              "3               0             en  \n",
              "4               0             en  "
            ],
            "text/html": [
              "\n",
              "  <div id=\"df-cffaa424-c900-4c87-ab0a-a749f1cb7ee8\">\n",
              "    <div class=\"colab-df-container\">\n",
              "      <div>\n",
              "<style scoped>\n",
              "    .dataframe tbody tr th:only-of-type {\n",
              "        vertical-align: middle;\n",
              "    }\n",
              "\n",
              "    .dataframe tbody tr th {\n",
              "        vertical-align: top;\n",
              "    }\n",
              "\n",
              "    .dataframe thead th {\n",
              "        text-align: right;\n",
              "    }\n",
              "</style>\n",
              "<table border=\"1\" class=\"dataframe\">\n",
              "  <thead>\n",
              "    <tr style=\"text-align: right;\">\n",
              "      <th></th>\n",
              "      <th>Datetime</th>\n",
              "      <th>Tweeter Id</th>\n",
              "      <th>Content</th>\n",
              "      <th>Twitter Username</th>\n",
              "      <th>Likes</th>\n",
              "      <th>No of Retweets</th>\n",
              "      <th>Tweet Language</th>\n",
              "    </tr>\n",
              "  </thead>\n",
              "  <tbody>\n",
              "    <tr>\n",
              "      <th>0</th>\n",
              "      <td>2023-02-28 14:25:30+00:00</td>\n",
              "      <td>1630574922220306433</td>\n",
              "      <td>One of the big questions in the climate change...</td>\n",
              "      <td>ereatareanuna</td>\n",
              "      <td>0</td>\n",
              "      <td>0</td>\n",
              "      <td>en</td>\n",
              "    </tr>\n",
              "    <tr>\n",
              "      <th>1</th>\n",
              "      <td>2023-02-28 14:25:25+00:00</td>\n",
              "      <td>1630574898497179650</td>\n",
              "      <td>@ilovejohnkimble \"What the Hell could have don...</td>\n",
              "      <td>TKM_Madness</td>\n",
              "      <td>0</td>\n",
              "      <td>0</td>\n",
              "      <td>en</td>\n",
              "    </tr>\n",
              "    <tr>\n",
              "      <th>2</th>\n",
              "      <td>2023-02-28 14:25:22+00:00</td>\n",
              "      <td>1630574888502317057</td>\n",
              "      <td>Did you miss our Engineering - Solving Problem...</td>\n",
              "      <td>FindingAda</td>\n",
              "      <td>0</td>\n",
              "      <td>0</td>\n",
              "      <td>en</td>\n",
              "    </tr>\n",
              "    <tr>\n",
              "      <th>3</th>\n",
              "      <td>2023-02-28 14:25:21+00:00</td>\n",
              "      <td>1630574885536661504</td>\n",
              "      <td>@DoorknobMedia @macareuxmoine12 @leslibless @U...</td>\n",
              "      <td>JonnyBagz3</td>\n",
              "      <td>0</td>\n",
              "      <td>0</td>\n",
              "      <td>en</td>\n",
              "    </tr>\n",
              "    <tr>\n",
              "      <th>4</th>\n",
              "      <td>2023-02-28 14:25:11+00:00</td>\n",
              "      <td>1630574840745717762</td>\n",
              "      <td>The impacts of climate change on sea temperatu...</td>\n",
              "      <td>NewOnNORA</td>\n",
              "      <td>0</td>\n",
              "      <td>0</td>\n",
              "      <td>en</td>\n",
              "    </tr>\n",
              "  </tbody>\n",
              "</table>\n",
              "</div>\n",
              "      <button class=\"colab-df-convert\" onclick=\"convertToInteractive('df-cffaa424-c900-4c87-ab0a-a749f1cb7ee8')\"\n",
              "              title=\"Convert this dataframe to an interactive table.\"\n",
              "              style=\"display:none;\">\n",
              "        \n",
              "  <svg xmlns=\"http://www.w3.org/2000/svg\" height=\"24px\"viewBox=\"0 0 24 24\"\n",
              "       width=\"24px\">\n",
              "    <path d=\"M0 0h24v24H0V0z\" fill=\"none\"/>\n",
              "    <path d=\"M18.56 5.44l.94 2.06.94-2.06 2.06-.94-2.06-.94-.94-2.06-.94 2.06-2.06.94zm-11 1L8.5 8.5l.94-2.06 2.06-.94-2.06-.94L8.5 2.5l-.94 2.06-2.06.94zm10 10l.94 2.06.94-2.06 2.06-.94-2.06-.94-.94-2.06-.94 2.06-2.06.94z\"/><path d=\"M17.41 7.96l-1.37-1.37c-.4-.4-.92-.59-1.43-.59-.52 0-1.04.2-1.43.59L10.3 9.45l-7.72 7.72c-.78.78-.78 2.05 0 2.83L4 21.41c.39.39.9.59 1.41.59.51 0 1.02-.2 1.41-.59l7.78-7.78 2.81-2.81c.8-.78.8-2.07 0-2.86zM5.41 20L4 18.59l7.72-7.72 1.47 1.35L5.41 20z\"/>\n",
              "  </svg>\n",
              "      </button>\n",
              "      \n",
              "  <style>\n",
              "    .colab-df-container {\n",
              "      display:flex;\n",
              "      flex-wrap:wrap;\n",
              "      gap: 12px;\n",
              "    }\n",
              "\n",
              "    .colab-df-convert {\n",
              "      background-color: #E8F0FE;\n",
              "      border: none;\n",
              "      border-radius: 50%;\n",
              "      cursor: pointer;\n",
              "      display: none;\n",
              "      fill: #1967D2;\n",
              "      height: 32px;\n",
              "      padding: 0 0 0 0;\n",
              "      width: 32px;\n",
              "    }\n",
              "\n",
              "    .colab-df-convert:hover {\n",
              "      background-color: #E2EBFA;\n",
              "      box-shadow: 0px 1px 2px rgba(60, 64, 67, 0.3), 0px 1px 3px 1px rgba(60, 64, 67, 0.15);\n",
              "      fill: #174EA6;\n",
              "    }\n",
              "\n",
              "    [theme=dark] .colab-df-convert {\n",
              "      background-color: #3B4455;\n",
              "      fill: #D2E3FC;\n",
              "    }\n",
              "\n",
              "    [theme=dark] .colab-df-convert:hover {\n",
              "      background-color: #434B5C;\n",
              "      box-shadow: 0px 1px 3px 1px rgba(0, 0, 0, 0.15);\n",
              "      filter: drop-shadow(0px 1px 2px rgba(0, 0, 0, 0.3));\n",
              "      fill: #FFFFFF;\n",
              "    }\n",
              "  </style>\n",
              "\n",
              "      <script>\n",
              "        const buttonEl =\n",
              "          document.querySelector('#df-cffaa424-c900-4c87-ab0a-a749f1cb7ee8 button.colab-df-convert');\n",
              "        buttonEl.style.display =\n",
              "          google.colab.kernel.accessAllowed ? 'block' : 'none';\n",
              "\n",
              "        async function convertToInteractive(key) {\n",
              "          const element = document.querySelector('#df-cffaa424-c900-4c87-ab0a-a749f1cb7ee8');\n",
              "          const dataTable =\n",
              "            await google.colab.kernel.invokeFunction('convertToInteractive',\n",
              "                                                     [key], {});\n",
              "          if (!dataTable) return;\n",
              "\n",
              "          const docLinkHtml = 'Like what you see? Visit the ' +\n",
              "            '<a target=\"_blank\" href=https://colab.research.google.com/notebooks/data_table.ipynb>data table notebook</a>'\n",
              "            + ' to learn more about interactive tables.';\n",
              "          element.innerHTML = '';\n",
              "          dataTable['output_type'] = 'display_data';\n",
              "          await google.colab.output.renderOutput(dataTable, element);\n",
              "          const docLink = document.createElement('div');\n",
              "          docLink.innerHTML = docLinkHtml;\n",
              "          element.appendChild(docLink);\n",
              "        }\n",
              "      </script>\n",
              "    </div>\n",
              "  </div>\n",
              "  "
            ]
          },
          "metadata": {},
          "execution_count": 16
        }
      ]
    },
    {
      "cell_type": "code",
      "source": [
        "#old_tweets = tweets_df"
      ],
      "metadata": {
        "id": "t1wF8cTunc-l"
      },
      "execution_count": null,
      "outputs": []
    },
    {
      "cell_type": "code",
      "source": [
        "# saving the tweets data\n",
        "tweets_df.to_csv('tweets_data19.csv',index=False)"
      ],
      "metadata": {
        "id": "yhb74Qc_-FQv"
      },
      "execution_count": 17,
      "outputs": []
    },
    {
      "cell_type": "code",
      "source": [],
      "metadata": {
        "id": "JEZrx3tP-o6U"
      },
      "execution_count": null,
      "outputs": []
    }
  ]
}